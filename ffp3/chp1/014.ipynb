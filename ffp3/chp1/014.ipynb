{
 "cells": [
  {
   "cell_type": "markdown",
   "id": "db6077ee",
   "metadata": {},
   "source": [
    "Quantitative forecasting is used when:\n",
    "1. numerical information about the past is available;\n",
    "2. It is reasonable to assume that some aspects of the past patterns will continue into the future.\n",
    "\n",
    "- Else Qualitative Forecasting\n",
    "- Anything that is observed sequentially over time is a time series\n",
    "- Decomposition methods are helpful for studying the trend and seasonal patterns\n",
    "- Popular time series models used for forecasting include exponential smoothing models and ARIMA models\n",
    "\n",
    "### Steps in Forecasting\n",
    "1. Problem Definition\n",
    "2. Gathering Information\n",
    "3. Preliminary (exploratory) analysis\n",
    "4. Choosing and fitting models\n",
    "5. Using and evaluating a forecasting model"
   ]
  },
  {
   "cell_type": "markdown",
   "id": "820862fa",
   "metadata": {},
   "source": [
    "- The thing which we forecast is called a `Random Variable`\n",
    "- In most forecasting situations, the variation associated with the thing we are forecasting will shrink as the event approaches. \n",
    "- In other words, the further ahead we forecast, the more uncertain we are."
   ]
  },
  {
   "cell_type": "code",
   "execution_count": null,
   "id": "c0c628ad",
   "metadata": {},
   "outputs": [],
   "source": []
  },
  {
   "cell_type": "code",
   "execution_count": null,
   "id": "86e86f34",
   "metadata": {},
   "outputs": [],
   "source": []
  }
 ],
 "metadata": {
  "kernelspec": {
   "display_name": ".venv",
   "language": "python",
   "name": "python3"
  },
  "language_info": {
   "codemirror_mode": {
    "name": "ipython",
    "version": 3
   },
   "file_extension": ".py",
   "mimetype": "text/x-python",
   "name": "python",
   "nbconvert_exporter": "python",
   "pygments_lexer": "ipython3",
   "version": "3.12.3"
  }
 },
 "nbformat": 4,
 "nbformat_minor": 5
}
